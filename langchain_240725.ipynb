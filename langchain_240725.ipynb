{
  "cells": [
    {
      "cell_type": "markdown",
      "metadata": {
        "id": "view-in-github",
        "colab_type": "text"
      },
      "source": [
        "<a href=\"https://colab.research.google.com/github/sjeom6/Colab_Repo/blob/main/langchain_240725.ipynb\" target=\"_parent\"><img src=\"https://colab.research.google.com/assets/colab-badge.svg\" alt=\"Open In Colab\"/></a>"
      ]
    },
    {
      "cell_type": "markdown",
      "source": [
        "LangChain OpenAI 테스트"
      ],
      "metadata": {
        "id": "ogqvEQvOR-B-"
      }
    },
    {
      "cell_type": "code",
      "source": [
        "!pip install openai\n",
        "# !pip install langchain"
      ],
      "metadata": {
        "collapsed": true,
        "colab": {
          "base_uri": "https://localhost:8080/"
        },
        "id": "nQgvb1UaSDTb",
        "outputId": "9f63fa60-9f0c-4b5d-c018-4cd99e76855d"
      },
      "execution_count": null,
      "outputs": [
        {
          "output_type": "stream",
          "name": "stdout",
          "text": [
            "Collecting openai\n",
            "  Downloading openai-1.35.14-py3-none-any.whl (328 kB)\n",
            "\u001b[?25l     \u001b[90m━━━━━━━━━━━━━━━━━━━━━━━━━━━━━━━━━━━━━━━━\u001b[0m \u001b[32m0.0/328.5 kB\u001b[0m \u001b[31m?\u001b[0m eta \u001b[36m-:--:--\u001b[0m\r\u001b[2K     \u001b[91m━━━━━━━━━━━━━━━━━━━━━━━━━━━━━━━━━━━━━━━\u001b[0m\u001b[91m╸\u001b[0m \u001b[32m327.7/328.5 kB\u001b[0m \u001b[31m11.5 MB/s\u001b[0m eta \u001b[36m0:00:01\u001b[0m\r\u001b[2K     \u001b[90m━━━━━━━━━━━━━━━━━━━━━━━━━━━━━━━━━━━━━━━━\u001b[0m \u001b[32m328.5/328.5 kB\u001b[0m \u001b[31m9.1 MB/s\u001b[0m eta \u001b[36m0:00:00\u001b[0m\n",
            "\u001b[?25hRequirement already satisfied: anyio<5,>=3.5.0 in /usr/local/lib/python3.10/dist-packages (from openai) (3.7.1)\n",
            "Requirement already satisfied: distro<2,>=1.7.0 in /usr/lib/python3/dist-packages (from openai) (1.7.0)\n",
            "Collecting httpx<1,>=0.23.0 (from openai)\n",
            "  Downloading httpx-0.27.0-py3-none-any.whl (75 kB)\n",
            "\u001b[2K     \u001b[90m━━━━━━━━━━━━━━━━━━━━━━━━━━━━━━━━━━━━━━━━\u001b[0m \u001b[32m75.6/75.6 kB\u001b[0m \u001b[31m12.9 MB/s\u001b[0m eta \u001b[36m0:00:00\u001b[0m\n",
            "\u001b[?25hRequirement already satisfied: pydantic<3,>=1.9.0 in /usr/local/lib/python3.10/dist-packages (from openai) (2.8.2)\n",
            "Requirement already satisfied: sniffio in /usr/local/lib/python3.10/dist-packages (from openai) (1.3.1)\n",
            "Requirement already satisfied: tqdm>4 in /usr/local/lib/python3.10/dist-packages (from openai) (4.66.4)\n",
            "Requirement already satisfied: typing-extensions<5,>=4.7 in /usr/local/lib/python3.10/dist-packages (from openai) (4.12.2)\n",
            "Requirement already satisfied: idna>=2.8 in /usr/local/lib/python3.10/dist-packages (from anyio<5,>=3.5.0->openai) (3.7)\n",
            "Requirement already satisfied: exceptiongroup in /usr/local/lib/python3.10/dist-packages (from anyio<5,>=3.5.0->openai) (1.2.2)\n",
            "Requirement already satisfied: certifi in /usr/local/lib/python3.10/dist-packages (from httpx<1,>=0.23.0->openai) (2024.7.4)\n",
            "Collecting httpcore==1.* (from httpx<1,>=0.23.0->openai)\n",
            "  Downloading httpcore-1.0.5-py3-none-any.whl (77 kB)\n",
            "\u001b[2K     \u001b[90m━━━━━━━━━━━━━━━━━━━━━━━━━━━━━━━━━━━━━━━━\u001b[0m \u001b[32m77.9/77.9 kB\u001b[0m \u001b[31m12.7 MB/s\u001b[0m eta \u001b[36m0:00:00\u001b[0m\n",
            "\u001b[?25hCollecting h11<0.15,>=0.13 (from httpcore==1.*->httpx<1,>=0.23.0->openai)\n",
            "  Downloading h11-0.14.0-py3-none-any.whl (58 kB)\n",
            "\u001b[2K     \u001b[90m━━━━━━━━━━━━━━━━━━━━━━━━━━━━━━━━━━━━━━━━\u001b[0m \u001b[32m58.3/58.3 kB\u001b[0m \u001b[31m10.4 MB/s\u001b[0m eta \u001b[36m0:00:00\u001b[0m\n",
            "\u001b[?25hRequirement already satisfied: annotated-types>=0.4.0 in /usr/local/lib/python3.10/dist-packages (from pydantic<3,>=1.9.0->openai) (0.7.0)\n",
            "Requirement already satisfied: pydantic-core==2.20.1 in /usr/local/lib/python3.10/dist-packages (from pydantic<3,>=1.9.0->openai) (2.20.1)\n",
            "Installing collected packages: h11, httpcore, httpx, openai\n",
            "Successfully installed h11-0.14.0 httpcore-1.0.5 httpx-0.27.0 openai-1.35.14\n"
          ]
        }
      ]
    },
    {
      "cell_type": "code",
      "source": [
        "import os\n",
        "import openai\n",
        "\n",
        "os.environ[\"OPENAI_API_KEY\"] = \"\"\n",
        "\n",
        "client = openai.OpenAI(api_key=os.environ[\"OPENAI_API_KEY\"])"
      ],
      "metadata": {
        "id": "CcVwCCmuUGm5"
      },
      "execution_count": null,
      "outputs": []
    },
    {
      "cell_type": "code",
      "source": [
        "# 파일 업로드\n",
        "file = client.files.create(\n",
        "    file = open(\"./광주광역시_광주맛집_20220111.csv\", \"rb\"),\n",
        "    purpose = \"assistants\"\n",
        ")\n"
      ],
      "metadata": {
        "id": "fpdqOhvQYAbG"
      },
      "execution_count": null,
      "outputs": []
    },
    {
      "cell_type": "code",
      "source": [
        "# code_interpreter 사용\n",
        "assistant = client.beta.assistants.create(\n",
        "    model=\"gpt-4o\",\n",
        "    name = \"광주맛집 전문가\",\n",
        "    instructions=\"사용자가 맛집 정보를 요청할 때, 관련 정보를 데이터베이스에서 정보를 검색하고, 연락처 정보를 알려주세요.\",\n",
        "    tools=[{\"type\":\"code_interpreter\"}],\n",
        "    tool_resources={\n",
        "      \"code_interpreter\": {\n",
        "        \"file_ids\": [file.id]\n",
        "      }\n",
        "    }\n",
        "  )\n"
      ],
      "metadata": {
        "id": "iU0DosrBb9b-"
      },
      "execution_count": null,
      "outputs": []
    },
    {
      "cell_type": "code",
      "source": [
        "# 스레드 생성\n",
        "thread = client.beta.threads.create()\n",
        "print(thread)"
      ],
      "metadata": {
        "colab": {
          "base_uri": "https://localhost:8080/"
        },
        "id": "2BOnwM0YjOPh",
        "outputId": "d3126892-7649-4111-cd35-6d66f5e7a1a7"
      },
      "execution_count": null,
      "outputs": [
        {
          "output_type": "stream",
          "name": "stdout",
          "text": [
            "Thread(id='thread_GtUOtaInBrSqaBISumbspSai', created_at=1721284612, metadata={}, object='thread', tool_resources=ToolResources(code_interpreter=None, file_search=None))\n"
          ]
        }
      ]
    },
    {
      "cell_type": "code",
      "source": [
        "# 메시지 생성\n",
        "message = client.beta.threads.messages.create(\n",
        "    thread_id=thread.id,\n",
        "    role=\"user\",\n",
        "    content=\"광주 맛집 정보를 3곳만 알려줘\"\n",
        ")\n",
        "print(message)"
      ],
      "metadata": {
        "colab": {
          "base_uri": "https://localhost:8080/"
        },
        "id": "ktdV0uMIffOg",
        "outputId": "b1e3907f-3ca8-416b-8f0b-3d4b2d5f0366"
      },
      "execution_count": null,
      "outputs": [
        {
          "output_type": "stream",
          "name": "stdout",
          "text": [
            "Message(id='msg_334kIpf6Oh7CnOxM1oYCjcr6', assistant_id=None, attachments=[], completed_at=None, content=[TextContentBlock(text=Text(annotations=[], value='광주 맛집 정보를 3곳만 알려줘'), type='text')], created_at=1721284831, incomplete_at=None, incomplete_details=None, metadata={}, object='thread.message', role='user', run_id=None, status=None, thread_id='thread_GtUOtaInBrSqaBISumbspSai')\n"
          ]
        }
      ]
    },
    {
      "cell_type": "code",
      "source": [
        "run = client.beta.threads.runs.create(\n",
        "      thread_id=thread.id,\n",
        "      assistant_id=assistant.id,\n",
        "      # model=\"gpt-4o\",\n",
        "      tools=[{\"type\":\"code_interpreter\"}, {\"type\":\"file_search\"}]\n",
        "    )\n",
        "print(run)"
      ],
      "metadata": {
        "colab": {
          "base_uri": "https://localhost:8080/"
        },
        "id": "n1B0g6rFgI7c",
        "outputId": "c76ef927-2353-4759-8551-656f86dc1e85"
      },
      "execution_count": null,
      "outputs": [
        {
          "output_type": "stream",
          "name": "stdout",
          "text": [
            "Run(id='run_nCosyvmxJwarof0wNX6Ei4dA', assistant_id='asst_GSM3n4zKCA62Ve4k2sHXGLTZ', cancelled_at=None, completed_at=None, created_at=1721284859, expires_at=1721285459, failed_at=None, incomplete_details=None, instructions='사용자가 맛집 정보를 요청할 때, 관련 정보를 데이터베이스에서 정보를 검색하고, 연락처 정보를 알려주세요.', last_error=None, max_completion_tokens=None, max_prompt_tokens=None, metadata={}, model='gpt-4o', object='thread.run', parallel_tool_calls=True, required_action=None, response_format='auto', started_at=None, status='queued', thread_id='thread_GtUOtaInBrSqaBISumbspSai', tool_choice='auto', tools=[CodeInterpreterTool(type='code_interpreter'), FileSearchTool(type='file_search', file_search=None)], truncation_strategy=TruncationStrategy(type='auto', last_messages=None), usage=None, temperature=1.0, top_p=1.0, tool_resources={})\n"
          ]
        }
      ]
    },
    {
      "cell_type": "code",
      "source": [
        "# 처리결과 확인m\n",
        "messages = client.beta.threads.messages.list(\n",
        "    thread_id=thread.id,\n",
        "    run_id=run.id\n",
        ")\n",
        "\n",
        "print(messages)\n"
      ],
      "metadata": {
        "colab": {
          "base_uri": "https://localhost:8080/"
        },
        "id": "8WhlXiE3giPh",
        "outputId": "e20e947e-7a09-4fe4-ddfb-7ecd466d6333"
      },
      "execution_count": null,
      "outputs": [
        {
          "output_type": "stream",
          "name": "stdout",
          "text": [
            "SyncCursorPage[Message](data=[Message(id='msg_FYm32XYLxGoGbKSJoARV8Ysa', assistant_id='asst_GSM3n4zKCA62Ve4k2sHXGLTZ', attachments=[], completed_at=None, content=[TextContentBlock(text=Text(annotations=[], value='다음은 광주의 맛집 중 세 곳의 정보입니다:\\n\\n1. **맘스쿡**\\n   - 주소: 광주광역시 동구 동계천로143, 1층(동명동)\\n   - 전화번호: 062-233-1233\\n   - 분류: 향토맛집\\n\\n2. **옛날밥상**\\n   - 주소: 광주광역시 남구 용대로119번길 6(봉선동, 1층)\\n   - 전화번호: 062-653-7337\\n   - 분류: 향토맛집\\n\\n3. **송정떡갈비**\\n   - 주소: 광주광역시 광산구 광산로29번길 1, 1층(송정동)\\n   - 전화번호: 062-944-1439\\n   - 분류: 향토맛집\\n\\n더 필요한 정보나 추가적인 질문이 있으시면 언제든지 말씀해 주세요.'), type='text')], created_at=1721284860, incomplete_at=None, incomplete_details=None, metadata={}, object='thread.message', role='assistant', run_id='run_nCosyvmxJwarof0wNX6Ei4dA', status=None, thread_id='thread_GtUOtaInBrSqaBISumbspSai')], object='list', first_id='msg_FYm32XYLxGoGbKSJoARV8Ysa', last_id='msg_FYm32XYLxGoGbKSJoARV8Ysa', has_more=False)\n"
          ]
        }
      ]
    },
    {
      "cell_type": "code",
      "source": [
        "for message in messages:\n",
        "  if (message.role == \"assistant\"):\n",
        "    print(f\"어시스턴트: \\n{message.content[0].text.value}\")\n",
        "  elif (message.role == \"user\"):\n",
        "    print(f\"사용자: \\n{message.content[0].text.value}\")\n",
        "  else:\n",
        "    print(f\"오류: \\n{message.content[0].text.value}\")"
      ],
      "metadata": {
        "colab": {
          "base_uri": "https://localhost:8080/"
        },
        "id": "b9zw_gyskOxI",
        "outputId": "3765169b-c561-4442-c2ba-f3052a9730b3"
      },
      "execution_count": null,
      "outputs": [
        {
          "output_type": "stream",
          "name": "stdout",
          "text": [
            "어시스턴트: \n",
            "다음은 광주의 맛집 중 세 곳의 정보입니다:\n",
            "\n",
            "1. **맘스쿡**\n",
            "   - 주소: 광주광역시 동구 동계천로143, 1층(동명동)\n",
            "   - 전화번호: 062-233-1233\n",
            "   - 분류: 향토맛집\n",
            "\n",
            "2. **옛날밥상**\n",
            "   - 주소: 광주광역시 남구 용대로119번길 6(봉선동, 1층)\n",
            "   - 전화번호: 062-653-7337\n",
            "   - 분류: 향토맛집\n",
            "\n",
            "3. **송정떡갈비**\n",
            "   - 주소: 광주광역시 광산구 광산로29번길 1, 1층(송정동)\n",
            "   - 전화번호: 062-944-1439\n",
            "   - 분류: 향토맛집\n",
            "\n",
            "더 필요한 정보나 추가적인 질문이 있으시면 언제든지 말씀해 주세요.\n"
          ]
        }
      ]
    },
    {
      "cell_type": "code",
      "source": [
        "# 메시지 생성 2\n",
        "message = client.beta.threads.messages.create(\n",
        "    thread_id=thread.id,\n",
        "    role=\"user\",\n",
        "    content=\"향토맛집도 좋은데 분류가 다양했으면 좋겠어\"\n",
        ")\n",
        "print(message)"
      ],
      "metadata": {
        "colab": {
          "base_uri": "https://localhost:8080/"
        },
        "id": "Mbw-giOgk2D5",
        "outputId": "9f2ded52-0f69-4fa1-eca7-d33b66c6748f"
      },
      "execution_count": null,
      "outputs": [
        {
          "output_type": "stream",
          "name": "stdout",
          "text": [
            "Message(id='msg_8rnsJo2v3oPf4ZKHET5FRAx3', assistant_id=None, attachments=[], completed_at=None, content=[TextContentBlock(text=Text(annotations=[], value='향토맛집도 좋은데 분류가 다양했으면 좋겠어'), type='text')], created_at=1721284954, incomplete_at=None, incomplete_details=None, metadata={}, object='thread.message', role='user', run_id=None, status=None, thread_id='thread_GtUOtaInBrSqaBISumbspSai')\n"
          ]
        }
      ]
    },
    {
      "cell_type": "code",
      "source": [
        "run = client.beta.threads.runs.create(\n",
        "      thread_id=thread.id,\n",
        "      assistant_id=assistant.id,\n",
        "      # model=\"gpt-4o\",\n",
        "      tools=[{\"type\":\"code_interpreter\"}, {\"type\":\"file_search\"}]\n",
        "    )\n",
        "print(run)"
      ],
      "metadata": {
        "colab": {
          "base_uri": "https://localhost:8080/"
        },
        "id": "1lhiqMIylD7r",
        "outputId": "bfedf1e6-6682-4af1-fcd4-b0b65a7fee60"
      },
      "execution_count": null,
      "outputs": [
        {
          "output_type": "stream",
          "name": "stdout",
          "text": [
            "Run(id='run_aS22c2h5dprK1yxuXsdXCRUI', assistant_id='asst_GSM3n4zKCA62Ve4k2sHXGLTZ', cancelled_at=None, completed_at=None, created_at=1721284971, expires_at=1721285571, failed_at=None, incomplete_details=None, instructions='사용자가 맛집 정보를 요청할 때, 관련 정보를 데이터베이스에서 정보를 검색하고, 연락처 정보를 알려주세요.', last_error=None, max_completion_tokens=None, max_prompt_tokens=None, metadata={}, model='gpt-4o', object='thread.run', parallel_tool_calls=True, required_action=None, response_format='auto', started_at=None, status='queued', thread_id='thread_GtUOtaInBrSqaBISumbspSai', tool_choice='auto', tools=[CodeInterpreterTool(type='code_interpreter'), FileSearchTool(type='file_search', file_search=None)], truncation_strategy=TruncationStrategy(type='auto', last_messages=None), usage=None, temperature=1.0, top_p=1.0, tool_resources={})\n"
          ]
        }
      ]
    },
    {
      "cell_type": "code",
      "source": [
        "# 처리결과 확인m\n",
        "messages = client.beta.threads.messages.list(\n",
        "    thread_id=thread.id,\n",
        "    run_id=run.id\n",
        ")\n",
        "\n",
        "print(messages)"
      ],
      "metadata": {
        "colab": {
          "base_uri": "https://localhost:8080/"
        },
        "id": "qqteq5xplHpn",
        "outputId": "e001f4c6-882d-4a42-9b30-b7a2488d8794"
      },
      "execution_count": null,
      "outputs": [
        {
          "output_type": "stream",
          "name": "stdout",
          "text": [
            "SyncCursorPage[Message](data=[Message(id='msg_TCtpXYWIrNBMK5Wq9GaZ6RO5', assistant_id='asst_GSM3n4zKCA62Ve4k2sHXGLTZ', attachments=[], completed_at=None, content=[TextContentBlock(text=Text(annotations=[], value='다양한 분류의 광주 맛집 세 곳을 추천드립니다:\\n\\n1. **맘스쿡**\\n   - 분류: 향토맛집\\n   - 주소: 광주광역시 동구 동계천로143, 1층(동명동)\\n   - 전화번호: 062-233-1233\\n\\n2. **조선옥**\\n   - 분류: 한상맛집\\n   - 주소: 광주광역시 남구 효덕로 103, 1층(노대동)\\n   - 전화번호: 062-654-3322\\n\\n3. **관가**\\n   - 분류: 오래맛집\\n   - 주소: 광주광역시 동구 의재로96번길 18(소태동)\\n   - 전화번호: 062-226-0040\\n\\n각 맛집의 분류가 다르므로 취향에 맞게 선택하실 수 있을 것입니다. 다른 정보나 추가 질문이 있으시면 언제든지 말씀해 주세요!'), type='text')], created_at=1721284975, incomplete_at=None, incomplete_details=None, metadata={}, object='thread.message', role='assistant', run_id='run_aS22c2h5dprK1yxuXsdXCRUI', status=None, thread_id='thread_GtUOtaInBrSqaBISumbspSai')], object='list', first_id='msg_TCtpXYWIrNBMK5Wq9GaZ6RO5', last_id='msg_TCtpXYWIrNBMK5Wq9GaZ6RO5', has_more=False)\n"
          ]
        }
      ]
    },
    {
      "cell_type": "code",
      "source": [
        "for message in messages:\n",
        "  if (message.role == \"assistant\"):\n",
        "    print(f\"어시스턴트: \\n{message.content[0].text.value}\")\n",
        "  elif (message.role == \"user\"):\n",
        "    print(f\"사용자: \\n{message.content[0].text.value}\")\n",
        "  else:\n",
        "    print(f\"오류: \\n{message.content[0].text.value}\")"
      ],
      "metadata": {
        "colab": {
          "base_uri": "https://localhost:8080/"
        },
        "id": "iunpmHZOlLj0",
        "outputId": "a01f59da-cb74-4cc4-dafe-f2c4d0ee74d0"
      },
      "execution_count": null,
      "outputs": [
        {
          "output_type": "stream",
          "name": "stdout",
          "text": [
            "어시스턴트: \n",
            "다양한 분류의 광주 맛집 세 곳을 추천드립니다:\n",
            "\n",
            "1. **맘스쿡**\n",
            "   - 분류: 향토맛집\n",
            "   - 주소: 광주광역시 동구 동계천로143, 1층(동명동)\n",
            "   - 전화번호: 062-233-1233\n",
            "\n",
            "2. **조선옥**\n",
            "   - 분류: 한상맛집\n",
            "   - 주소: 광주광역시 남구 효덕로 103, 1층(노대동)\n",
            "   - 전화번호: 062-654-3322\n",
            "\n",
            "3. **관가**\n",
            "   - 분류: 오래맛집\n",
            "   - 주소: 광주광역시 동구 의재로96번길 18(소태동)\n",
            "   - 전화번호: 062-226-0040\n",
            "\n",
            "각 맛집의 분류가 다르므로 취향에 맞게 선택하실 수 있을 것입니다. 다른 정보나 추가 질문이 있으시면 언제든지 말씀해 주세요!\n"
          ]
        }
      ]
    }
  ],
  "metadata": {
    "kernelspec": {
      "display_name": "Python 3",
      "name": "python3"
    },
    "language_info": {
      "codemirror_mode": {
        "name": "ipython",
        "version": 3
      },
      "file_extension": ".py",
      "mimetype": "text/x-python",
      "name": "python",
      "nbconvert_exporter": "python",
      "pygments_lexer": "ipython3",
      "version": "3.9.13"
    },
    "colab": {
      "provenance": [],
      "gpuType": "T4",
      "include_colab_link": true
    },
    "accelerator": "GPU"
  },
  "nbformat": 4,
  "nbformat_minor": 0
}