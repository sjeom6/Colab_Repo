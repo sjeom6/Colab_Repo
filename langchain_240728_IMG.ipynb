{
  "cells": [
    {
      "cell_type": "markdown",
      "metadata": {
        "id": "view-in-github",
        "colab_type": "text"
      },
      "source": [
        "<a href=\"https://colab.research.google.com/github/sjeom6/Colab_Repo/blob/main/langchain_240728_IMG.ipynb\" target=\"_parent\"><img src=\"https://colab.research.google.com/assets/colab-badge.svg\" alt=\"Open In Colab\"/></a>"
      ]
    },
    {
      "cell_type": "markdown",
      "source": [
        "LangChain OpenAI 테스트"
      ],
      "metadata": {
        "id": "ogqvEQvOR-B-"
      }
    },
    {
      "cell_type": "code",
      "source": [
        "!pip install openai\n",
        "!pip install langchain"
      ],
      "metadata": {
        "collapsed": true,
        "colab": {
          "base_uri": "https://localhost:8080/"
        },
        "id": "nQgvb1UaSDTb",
        "outputId": "e35e5983-f219-4680-9027-7eb39470ea54"
      },
      "execution_count": 37,
      "outputs": [
        {
          "output_type": "stream",
          "name": "stdout",
          "text": [
            "Requirement already satisfied: openai in /usr/local/lib/python3.10/dist-packages (1.37.1)\n",
            "Requirement already satisfied: anyio<5,>=3.5.0 in /usr/local/lib/python3.10/dist-packages (from openai) (3.7.1)\n",
            "Requirement already satisfied: distro<2,>=1.7.0 in /usr/lib/python3/dist-packages (from openai) (1.7.0)\n",
            "Requirement already satisfied: httpx<1,>=0.23.0 in /usr/local/lib/python3.10/dist-packages (from openai) (0.27.0)\n",
            "Requirement already satisfied: pydantic<3,>=1.9.0 in /usr/local/lib/python3.10/dist-packages (from openai) (2.8.2)\n",
            "Requirement already satisfied: sniffio in /usr/local/lib/python3.10/dist-packages (from openai) (1.3.1)\n",
            "Requirement already satisfied: tqdm>4 in /usr/local/lib/python3.10/dist-packages (from openai) (4.66.4)\n",
            "Requirement already satisfied: typing-extensions<5,>=4.7 in /usr/local/lib/python3.10/dist-packages (from openai) (4.12.2)\n",
            "Requirement already satisfied: idna>=2.8 in /usr/local/lib/python3.10/dist-packages (from anyio<5,>=3.5.0->openai) (3.7)\n",
            "Requirement already satisfied: exceptiongroup in /usr/local/lib/python3.10/dist-packages (from anyio<5,>=3.5.0->openai) (1.2.2)\n",
            "Requirement already satisfied: certifi in /usr/local/lib/python3.10/dist-packages (from httpx<1,>=0.23.0->openai) (2024.7.4)\n",
            "Requirement already satisfied: httpcore==1.* in /usr/local/lib/python3.10/dist-packages (from httpx<1,>=0.23.0->openai) (1.0.5)\n",
            "Requirement already satisfied: h11<0.15,>=0.13 in /usr/local/lib/python3.10/dist-packages (from httpcore==1.*->httpx<1,>=0.23.0->openai) (0.14.0)\n",
            "Requirement already satisfied: annotated-types>=0.4.0 in /usr/local/lib/python3.10/dist-packages (from pydantic<3,>=1.9.0->openai) (0.7.0)\n",
            "Requirement already satisfied: pydantic-core==2.20.1 in /usr/local/lib/python3.10/dist-packages (from pydantic<3,>=1.9.0->openai) (2.20.1)\n",
            "Collecting langchain\n",
            "  Downloading langchain-0.2.11-py3-none-any.whl.metadata (7.1 kB)\n",
            "Requirement already satisfied: PyYAML>=5.3 in /usr/local/lib/python3.10/dist-packages (from langchain) (6.0.1)\n",
            "Requirement already satisfied: SQLAlchemy<3,>=1.4 in /usr/local/lib/python3.10/dist-packages (from langchain) (2.0.31)\n",
            "Requirement already satisfied: aiohttp<4.0.0,>=3.8.3 in /usr/local/lib/python3.10/dist-packages (from langchain) (3.9.5)\n",
            "Requirement already satisfied: async-timeout<5.0.0,>=4.0.0 in /usr/local/lib/python3.10/dist-packages (from langchain) (4.0.3)\n",
            "Collecting langchain-core<0.3.0,>=0.2.23 (from langchain)\n",
            "  Downloading langchain_core-0.2.24-py3-none-any.whl.metadata (6.2 kB)\n",
            "Collecting langchain-text-splitters<0.3.0,>=0.2.0 (from langchain)\n",
            "  Downloading langchain_text_splitters-0.2.2-py3-none-any.whl.metadata (2.1 kB)\n",
            "Collecting langsmith<0.2.0,>=0.1.17 (from langchain)\n",
            "  Downloading langsmith-0.1.93-py3-none-any.whl.metadata (13 kB)\n",
            "Requirement already satisfied: numpy<2,>=1 in /usr/local/lib/python3.10/dist-packages (from langchain) (1.25.2)\n",
            "Requirement already satisfied: pydantic<3,>=1 in /usr/local/lib/python3.10/dist-packages (from langchain) (2.8.2)\n",
            "Requirement already satisfied: requests<3,>=2 in /usr/local/lib/python3.10/dist-packages (from langchain) (2.31.0)\n",
            "Requirement already satisfied: tenacity!=8.4.0,<9.0.0,>=8.1.0 in /usr/local/lib/python3.10/dist-packages (from langchain) (8.5.0)\n",
            "Requirement already satisfied: aiosignal>=1.1.2 in /usr/local/lib/python3.10/dist-packages (from aiohttp<4.0.0,>=3.8.3->langchain) (1.3.1)\n",
            "Requirement already satisfied: attrs>=17.3.0 in /usr/local/lib/python3.10/dist-packages (from aiohttp<4.0.0,>=3.8.3->langchain) (23.2.0)\n",
            "Requirement already satisfied: frozenlist>=1.1.1 in /usr/local/lib/python3.10/dist-packages (from aiohttp<4.0.0,>=3.8.3->langchain) (1.4.1)\n",
            "Requirement already satisfied: multidict<7.0,>=4.5 in /usr/local/lib/python3.10/dist-packages (from aiohttp<4.0.0,>=3.8.3->langchain) (6.0.5)\n",
            "Requirement already satisfied: yarl<2.0,>=1.0 in /usr/local/lib/python3.10/dist-packages (from aiohttp<4.0.0,>=3.8.3->langchain) (1.9.4)\n",
            "Collecting jsonpatch<2.0,>=1.33 (from langchain-core<0.3.0,>=0.2.23->langchain)\n",
            "  Downloading jsonpatch-1.33-py2.py3-none-any.whl.metadata (3.0 kB)\n",
            "Requirement already satisfied: packaging<25,>=23.2 in /usr/local/lib/python3.10/dist-packages (from langchain-core<0.3.0,>=0.2.23->langchain) (24.1)\n",
            "Collecting orjson<4.0.0,>=3.9.14 (from langsmith<0.2.0,>=0.1.17->langchain)\n",
            "  Downloading orjson-3.10.6-cp310-cp310-manylinux_2_17_x86_64.manylinux2014_x86_64.whl.metadata (50 kB)\n",
            "\u001b[2K     \u001b[90m━━━━━━━━━━━━━━━━━━━━━━━━━━━━━━━━━━━━━━━━\u001b[0m \u001b[32m50.4/50.4 kB\u001b[0m \u001b[31m3.7 MB/s\u001b[0m eta \u001b[36m0:00:00\u001b[0m\n",
            "\u001b[?25hRequirement already satisfied: annotated-types>=0.4.0 in /usr/local/lib/python3.10/dist-packages (from pydantic<3,>=1->langchain) (0.7.0)\n",
            "Requirement already satisfied: pydantic-core==2.20.1 in /usr/local/lib/python3.10/dist-packages (from pydantic<3,>=1->langchain) (2.20.1)\n",
            "Requirement already satisfied: typing-extensions>=4.6.1 in /usr/local/lib/python3.10/dist-packages (from pydantic<3,>=1->langchain) (4.12.2)\n",
            "Requirement already satisfied: charset-normalizer<4,>=2 in /usr/local/lib/python3.10/dist-packages (from requests<3,>=2->langchain) (3.3.2)\n",
            "Requirement already satisfied: idna<4,>=2.5 in /usr/local/lib/python3.10/dist-packages (from requests<3,>=2->langchain) (3.7)\n",
            "Requirement already satisfied: urllib3<3,>=1.21.1 in /usr/local/lib/python3.10/dist-packages (from requests<3,>=2->langchain) (2.0.7)\n",
            "Requirement already satisfied: certifi>=2017.4.17 in /usr/local/lib/python3.10/dist-packages (from requests<3,>=2->langchain) (2024.7.4)\n",
            "Requirement already satisfied: greenlet!=0.4.17 in /usr/local/lib/python3.10/dist-packages (from SQLAlchemy<3,>=1.4->langchain) (3.0.3)\n",
            "Collecting jsonpointer>=1.9 (from jsonpatch<2.0,>=1.33->langchain-core<0.3.0,>=0.2.23->langchain)\n",
            "  Downloading jsonpointer-3.0.0-py2.py3-none-any.whl.metadata (2.3 kB)\n",
            "Downloading langchain-0.2.11-py3-none-any.whl (990 kB)\n",
            "\u001b[2K   \u001b[90m━━━━━━━━━━━━━━━━━━━━━━━━━━━━━━━━━━━━━━━━\u001b[0m \u001b[32m990.3/990.3 kB\u001b[0m \u001b[31m27.5 MB/s\u001b[0m eta \u001b[36m0:00:00\u001b[0m\n",
            "\u001b[?25hDownloading langchain_core-0.2.24-py3-none-any.whl (377 kB)\n",
            "\u001b[2K   \u001b[90m━━━━━━━━━━━━━━━━━━━━━━━━━━━━━━━━━━━━━━━━\u001b[0m \u001b[32m377.3/377.3 kB\u001b[0m \u001b[31m29.8 MB/s\u001b[0m eta \u001b[36m0:00:00\u001b[0m\n",
            "\u001b[?25hDownloading langchain_text_splitters-0.2.2-py3-none-any.whl (25 kB)\n",
            "Downloading langsmith-0.1.93-py3-none-any.whl (139 kB)\n",
            "\u001b[2K   \u001b[90m━━━━━━━━━━━━━━━━━━━━━━━━━━━━━━━━━━━━━━━━\u001b[0m \u001b[32m139.8/139.8 kB\u001b[0m \u001b[31m11.9 MB/s\u001b[0m eta \u001b[36m0:00:00\u001b[0m\n",
            "\u001b[?25hDownloading jsonpatch-1.33-py2.py3-none-any.whl (12 kB)\n",
            "Downloading orjson-3.10.6-cp310-cp310-manylinux_2_17_x86_64.manylinux2014_x86_64.whl (141 kB)\n",
            "\u001b[2K   \u001b[90m━━━━━━━━━━━━━━━━━━━━━━━━━━━━━━━━━━━━━━━━\u001b[0m \u001b[32m141.1/141.1 kB\u001b[0m \u001b[31m13.2 MB/s\u001b[0m eta \u001b[36m0:00:00\u001b[0m\n",
            "\u001b[?25hDownloading jsonpointer-3.0.0-py2.py3-none-any.whl (7.6 kB)\n",
            "Installing collected packages: orjson, jsonpointer, jsonpatch, langsmith, langchain-core, langchain-text-splitters, langchain\n",
            "Successfully installed jsonpatch-1.33 jsonpointer-3.0.0 langchain-0.2.11 langchain-core-0.2.24 langchain-text-splitters-0.2.2 langsmith-0.1.93 orjson-3.10.6\n"
          ]
        }
      ]
    },
    {
      "cell_type": "code",
      "source": [
        "import os\n",
        "import openai\n",
        "\n",
        "os.environ[\"OPENAI_API_KEY\"] = \"\"\n",
        "\n",
        "client = openai.OpenAI(api_key=os.environ[\"OPENAI_API_KEY\"])"
      ],
      "metadata": {
        "id": "CcVwCCmuUGm5"
      },
      "execution_count": 2,
      "outputs": []
    },
    {
      "cell_type": "code",
      "source": [
        "# 파일 업로드\n",
        "file = client.files.create(\n",
        "    file = open(\"./ISIN_TEST.csv\", \"rb\"),\n",
        "    purpose = \"assistants\"\n",
        ")\n"
      ],
      "metadata": {
        "id": "fpdqOhvQYAbG"
      },
      "execution_count": 89,
      "outputs": []
    },
    {
      "cell_type": "code",
      "source": [
        "# 파일 업로드\n",
        "file2 = client.files.create(\n",
        "    file = open(\"./NASDAQ_CODE_1.csv\", \"rb\"),\n",
        "    purpose = \"assistants\"\n",
        ")\n"
      ],
      "metadata": {
        "id": "q_7OwHrTOdwq"
      },
      "execution_count": 90,
      "outputs": []
    },
    {
      "cell_type": "code",
      "source": [
        "# code_interpreter 사용\n",
        "assistant = client.beta.assistants.create(\n",
        "    model=\"gpt-4o\",\n",
        "    name = \"데이터 매칭\",\n",
        "    instructions=\"각각의 파일(확장자:csv)을 열어 데이터를 비교 해줘 그래고 영어와 한글과 영어로된 이름들을 서로 매칭하여 질문에 해당하는 코드값으로 전달해주면 됩니다. name 비교 시 서로같은 언어로 변경해서 처리하세요.\",\n",
        "    tools=[{\"type\":\"code_interpreter\"}],\n",
        "    tool_resources={\n",
        "      \"code_interpreter\": {\n",
        "        \"file_ids\": [file.id, file2.id]\n",
        "      }\n",
        "    }\n",
        "  )\n"
      ],
      "metadata": {
        "id": "iU0DosrBb9b-"
      },
      "execution_count": 91,
      "outputs": []
    },
    {
      "cell_type": "code",
      "source": [
        "# 스레드 생성\n",
        "thread = client.beta.threads.create()\n",
        "print(thread)"
      ],
      "metadata": {
        "colab": {
          "base_uri": "https://localhost:8080/"
        },
        "id": "2BOnwM0YjOPh",
        "outputId": "2405e534-5939-4e14-89cc-256df1c458e4"
      },
      "execution_count": 92,
      "outputs": [
        {
          "output_type": "stream",
          "name": "stdout",
          "text": [
            "Thread(id='thread_pURUkb55UjOuagITpPzHL2hv', created_at=1722149470, metadata={}, object='thread', tool_resources=ToolResources(code_interpreter=None, file_search=None))\n"
          ]
        }
      ]
    },
    {
      "cell_type": "code",
      "source": [
        "# 메시지 생성\n",
        "message = client.beta.threads.messages.create(\n",
        "    thread_id=thread.id,\n",
        "    role=\"user\",\n",
        "    content=\"US0378331005 값을 NAME을 매칭하여 CODE 값을 알려줘\"\n",
        ")\n",
        "print(message)"
      ],
      "metadata": {
        "colab": {
          "base_uri": "https://localhost:8080/"
        },
        "id": "ktdV0uMIffOg",
        "outputId": "2158a993-dcb1-4180-904a-afb3a885b948"
      },
      "execution_count": 93,
      "outputs": [
        {
          "output_type": "stream",
          "name": "stdout",
          "text": [
            "Message(id='msg_WTXybtYVilO13LLHJ6STRmQx', assistant_id=None, attachments=[], completed_at=None, content=[TextContentBlock(text=Text(annotations=[], value='US0378331005 값을 NAME을 매칭하여 CODE 값을 알려줘'), type='text')], created_at=1722149472, incomplete_at=None, incomplete_details=None, metadata={}, object='thread.message', role='user', run_id=None, status=None, thread_id='thread_pURUkb55UjOuagITpPzHL2hv')\n"
          ]
        }
      ]
    },
    {
      "cell_type": "code",
      "source": [
        "run = client.beta.threads.runs.create(\n",
        "      thread_id=thread.id,\n",
        "      assistant_id=assistant.id,\n",
        "      tools=[{\"type\":\"code_interpreter\"}, {\"type\":\"file_search\"}]\n",
        "    )\n",
        "print(run)"
      ],
      "metadata": {
        "colab": {
          "base_uri": "https://localhost:8080/"
        },
        "id": "n1B0g6rFgI7c",
        "outputId": "980492a4-e66d-4c90-c09a-e1a18eef0183"
      },
      "execution_count": 94,
      "outputs": [
        {
          "output_type": "stream",
          "name": "stdout",
          "text": [
            "Run(id='run_bZu22DewAES03GVCdAlFcifQ', assistant_id='asst_CoKNVTdmL5hCDaUNKQ2BYsxH', cancelled_at=None, completed_at=None, created_at=1722149475, expires_at=1722150075, failed_at=None, incomplete_details=None, instructions='각각의 파일(확장자:csv)을 열어 데이터를 비교 해줘 그래고 영어와 한글과 영어로된 이름들을 서로 매칭하여 질문에 해당하는 코드값으로 전달해주면 됩니다. name 비교 시 서로같은 언어로 변경해서 처리하세요.', last_error=None, max_completion_tokens=None, max_prompt_tokens=None, metadata={}, model='gpt-4o', object='thread.run', parallel_tool_calls=True, required_action=None, response_format='auto', started_at=None, status='queued', thread_id='thread_pURUkb55UjOuagITpPzHL2hv', tool_choice='auto', tools=[CodeInterpreterTool(type='code_interpreter'), FileSearchTool(type='file_search', file_search=None)], truncation_strategy=TruncationStrategy(type='auto', last_messages=None), usage=None, temperature=1.0, top_p=1.0, tool_resources={})\n"
          ]
        }
      ]
    },
    {
      "cell_type": "code",
      "source": [
        "# 처리결과 확인m\n",
        "messages = client.beta.threads.messages.list(\n",
        "    thread_id=thread.id,\n",
        "    run_id=run.id\n",
        ")\n",
        "\n",
        "print(messages)\n",
        "\n",
        "for message in messages:\n",
        "  if (message.role == \"assistant\"):\n",
        "    print(f\"어시스턴트: \\n{message.content[0].text.value}\")\n",
        "  elif (message.role == \"user\"):\n",
        "    print(f\"사용자: \\n{message.content[0].text.value}\")\n",
        "  else:\n",
        "    print(f\"오류: \\n{message.content[0].text.value}\")\n"
      ],
      "metadata": {
        "colab": {
          "base_uri": "https://localhost:8080/"
        },
        "id": "8WhlXiE3giPh",
        "outputId": "da754c50-7c2c-4546-c364-802bc01bc71a"
      },
      "execution_count": 96,
      "outputs": [
        {
          "output_type": "stream",
          "name": "stdout",
          "text": [
            "SyncCursorPage[Message](data=[Message(id='msg_1fpcwBup2R1pZEj40das1kVl', assistant_id='asst_CoKNVTdmL5hCDaUNKQ2BYsxH', attachments=[], completed_at=None, content=[TextContentBlock(text=Text(annotations=[], value='\"US0378331005\"에 해당하는 CODE 값은 **AAPL**입니다. \\n\\n이 값은 두 파일의 NAME 열을 비교하여 매칭하였으며, \\'US0378331005\\'는 한국어 이름 \\'애플\\'과 영문 이름 \\'Apple\\'로 매칭되었습니다.'), type='text')], created_at=1722149484, incomplete_at=None, incomplete_details=None, metadata={}, object='thread.message', role='assistant', run_id='run_bZu22DewAES03GVCdAlFcifQ', status=None, thread_id='thread_pURUkb55UjOuagITpPzHL2hv'), Message(id='msg_qwHBuGZygYDk91EWipUmk2wO', assistant_id='asst_CoKNVTdmL5hCDaUNKQ2BYsxH', attachments=[], completed_at=None, content=[TextContentBlock(text=Text(annotations=[], value='먼저, 각 파일의 구조가 다음과 같음을 확인하였습니다:\\n\\n- 파일 1 (`file-EXMZqlafPFbBgltFwjWgwVxI`):  \\n  ``` \\n  CODE    |     NAME\\n  -------------------\\n  AAPL    |    Apple\\n  MSFT    |    Microsoft\\n  NVDA    |    NaN\\n  ```\\n\\n- 파일 2 (`file-Xth3FGI3w3UHHfpEySwfUZWr`):\\n  ``` \\n  ISIN_CODE       |    NAME\\n  -------------------------\\n  US5949181045    |    마이크로소프트\\n  US0378331005    |    애플\\n  US67066G1040    |    엔비디아\\n  ```\\n\\n이제 \"US0378331005\" 값을 포함하는 데이터를 찾고, 해당 데이터의 NAME 값을 사용하여 두 파일을 비교하여 CODE 값을 찾겠습니다. \\n\\n이를 위해 두 파일의 데이터를 영어로 번역하여 매칭 작업을 진행하겠습니다.'), type='text')], created_at=1722149479, incomplete_at=None, incomplete_details=None, metadata={}, object='thread.message', role='assistant', run_id='run_bZu22DewAES03GVCdAlFcifQ', status=None, thread_id='thread_pURUkb55UjOuagITpPzHL2hv'), Message(id='msg_q0bMJenJSzkgWk6cnEKnUrc4', assistant_id='asst_CoKNVTdmL5hCDaUNKQ2BYsxH', attachments=[], completed_at=None, content=[TextContentBlock(text=Text(annotations=[], value='먼저 업로드된 두 CSV 파일을 읽고 데이터를 확인해야 합니다. 두 파일에서 \"US0378331005\" 값을 포함하는 데이터를 찾고, 파일 내 요소(name)를 서로 비교하여 CODE 값을 매칭할 수 있는지 확인하겠습니다.\\n\\n먼저 파일을 읽어들이겠습니다.'), type='text')], created_at=1722149476, incomplete_at=None, incomplete_details=None, metadata={}, object='thread.message', role='assistant', run_id='run_bZu22DewAES03GVCdAlFcifQ', status=None, thread_id='thread_pURUkb55UjOuagITpPzHL2hv')], object='list', first_id='msg_1fpcwBup2R1pZEj40das1kVl', last_id='msg_q0bMJenJSzkgWk6cnEKnUrc4', has_more=False)\n",
            "어시스턴트: \n",
            "\"US0378331005\"에 해당하는 CODE 값은 **AAPL**입니다. \n",
            "\n",
            "이 값은 두 파일의 NAME 열을 비교하여 매칭하였으며, 'US0378331005'는 한국어 이름 '애플'과 영문 이름 'Apple'로 매칭되었습니다.\n",
            "어시스턴트: \n",
            "먼저, 각 파일의 구조가 다음과 같음을 확인하였습니다:\n",
            "\n",
            "- 파일 1 (`file-EXMZqlafPFbBgltFwjWgwVxI`):  \n",
            "  ``` \n",
            "  CODE    |     NAME\n",
            "  -------------------\n",
            "  AAPL    |    Apple\n",
            "  MSFT    |    Microsoft\n",
            "  NVDA    |    NaN\n",
            "  ```\n",
            "\n",
            "- 파일 2 (`file-Xth3FGI3w3UHHfpEySwfUZWr`):\n",
            "  ``` \n",
            "  ISIN_CODE       |    NAME\n",
            "  -------------------------\n",
            "  US5949181045    |    마이크로소프트\n",
            "  US0378331005    |    애플\n",
            "  US67066G1040    |    엔비디아\n",
            "  ```\n",
            "\n",
            "이제 \"US0378331005\" 값을 포함하는 데이터를 찾고, 해당 데이터의 NAME 값을 사용하여 두 파일을 비교하여 CODE 값을 찾겠습니다. \n",
            "\n",
            "이를 위해 두 파일의 데이터를 영어로 번역하여 매칭 작업을 진행하겠습니다.\n",
            "어시스턴트: \n",
            "먼저 업로드된 두 CSV 파일을 읽고 데이터를 확인해야 합니다. 두 파일에서 \"US0378331005\" 값을 포함하는 데이터를 찾고, 파일 내 요소(name)를 서로 비교하여 CODE 값을 매칭할 수 있는지 확인하겠습니다.\n",
            "\n",
            "먼저 파일을 읽어들이겠습니다.\n"
          ]
        }
      ]
    },
    {
      "cell_type": "code",
      "source": [
        "# 메시지 생성\n",
        "message = client.beta.threads.messages.create(\n",
        "    thread_id=thread.id,\n",
        "    role=\"user\",\n",
        "    content=\"US67066G1040 값을 알려줘\"\n",
        ")\n",
        "print(message)"
      ],
      "metadata": {
        "colab": {
          "base_uri": "https://localhost:8080/"
        },
        "id": "6MLR3rUsF3nq",
        "outputId": "1e700a7f-f0c0-4c37-b027-cd6da9a33903"
      },
      "execution_count": 98,
      "outputs": [
        {
          "output_type": "stream",
          "name": "stdout",
          "text": [
            "Message(id='msg_JH7IYORftIbTgnNwNUv5uTQP', assistant_id=None, attachments=[], completed_at=None, content=[TextContentBlock(text=Text(annotations=[], value='US67066G1040 값을 알려줘'), type='text')], created_at=1722149529, incomplete_at=None, incomplete_details=None, metadata={}, object='thread.message', role='user', run_id=None, status=None, thread_id='thread_pURUkb55UjOuagITpPzHL2hv')\n"
          ]
        }
      ]
    },
    {
      "cell_type": "code",
      "source": [
        "run = client.beta.threads.runs.create(\n",
        "      thread_id=thread.id,\n",
        "      assistant_id=assistant.id,\n",
        "      tools=[{\"type\":\"code_interpreter\"}, {\"type\":\"file_search\"}]\n",
        "    )\n",
        "print(run)\n",
        "\n",
        "\n"
      ],
      "metadata": {
        "colab": {
          "base_uri": "https://localhost:8080/"
        },
        "id": "dLtV_j6VGAoH",
        "outputId": "d2f8bffc-e4e6-4e2c-e38b-2dcb75f757c7"
      },
      "execution_count": 99,
      "outputs": [
        {
          "output_type": "stream",
          "name": "stdout",
          "text": [
            "Run(id='run_yCzIxI1cg3X2MwLNXiang0P4', assistant_id='asst_CoKNVTdmL5hCDaUNKQ2BYsxH', cancelled_at=None, completed_at=None, created_at=1722149532, expires_at=1722150132, failed_at=None, incomplete_details=None, instructions='각각의 파일(확장자:csv)을 열어 데이터를 비교 해줘 그래고 영어와 한글과 영어로된 이름들을 서로 매칭하여 질문에 해당하는 코드값으로 전달해주면 됩니다. name 비교 시 서로같은 언어로 변경해서 처리하세요.', last_error=None, max_completion_tokens=None, max_prompt_tokens=None, metadata={}, model='gpt-4o', object='thread.run', parallel_tool_calls=True, required_action=None, response_format='auto', started_at=None, status='queued', thread_id='thread_pURUkb55UjOuagITpPzHL2hv', tool_choice='auto', tools=[CodeInterpreterTool(type='code_interpreter'), FileSearchTool(type='file_search', file_search=None)], truncation_strategy=TruncationStrategy(type='auto', last_messages=None), usage=None, temperature=1.0, top_p=1.0, tool_resources={})\n"
          ]
        }
      ]
    },
    {
      "cell_type": "code",
      "source": [
        "# 처리결과 확인m\n",
        "messages = client.beta.threads.messages.list(\n",
        "    thread_id=thread.id,\n",
        "    run_id=run.id\n",
        ")\n",
        "\n",
        "print(messages)\n",
        "\n",
        "for message in messages:\n",
        "  if (message.role == \"assistant\"):\n",
        "    print(f\"어시스턴트: \\n{message.content[0].text.value}\")\n",
        "  elif (message.role == \"user\"):\n",
        "    print(f\"사용자: \\n{message.content[0].text.value}\")\n",
        "  else:\n",
        "        print(f\"오류: \\n{message.content[0].text.value}\")"
      ],
      "metadata": {
        "colab": {
          "base_uri": "https://localhost:8080/"
        },
        "id": "SLSBDSBTGH9k",
        "outputId": "e6ce437b-e4f1-4af9-b7b9-b8f121c2cdbd"
      },
      "execution_count": 100,
      "outputs": [
        {
          "output_type": "stream",
          "name": "stdout",
          "text": [
            "SyncCursorPage[Message](data=[Message(id='msg_2GcpbexGkxdrObW9rxfCSYES', assistant_id='asst_CoKNVTdmL5hCDaUNKQ2BYsxH', attachments=[], completed_at=None, content=[TextContentBlock(text=Text(annotations=[], value='현재 제공된 데이터로는 \"US67066G1040\"에 해당하는 CODE 값을 찾을 수 없습니다. \\n\\n원인으로는 파일 1에 \"NVIDIA\"의 CODE 값이 존재하지 않기 때문입니다(\"NVDA\"의 이름이 NaN으로 표시됨).\\n\\n이를 확인하기 위해 파일 1의 데이터를 직접 확인해보겠습니다.'), type='text')], created_at=1722149535, incomplete_at=None, incomplete_details=None, metadata={}, object='thread.message', role='assistant', run_id='run_yCzIxI1cg3X2MwLNXiang0P4', status=None, thread_id='thread_pURUkb55UjOuagITpPzHL2hv'), Message(id='msg_3SXD15fKbYMlEvupIIq94bre', assistant_id='asst_CoKNVTdmL5hCDaUNKQ2BYsxH', attachments=[], completed_at=None, content=[TextContentBlock(text=Text(annotations=[], value='같은 과정을 사용하여 \"US67066G1040\"에 해당하는 CODE 값을 확인하겠습니다. 이를 위해 파일을 다시 비교하고 매칭 작업을 수행하겠습니다.'), type='text')], created_at=1722149533, incomplete_at=None, incomplete_details=None, metadata={}, object='thread.message', role='assistant', run_id='run_yCzIxI1cg3X2MwLNXiang0P4', status=None, thread_id='thread_pURUkb55UjOuagITpPzHL2hv')], object='list', first_id='msg_2GcpbexGkxdrObW9rxfCSYES', last_id='msg_3SXD15fKbYMlEvupIIq94bre', has_more=False)\n",
            "어시스턴트: \n",
            "현재 제공된 데이터로는 \"US67066G1040\"에 해당하는 CODE 값을 찾을 수 없습니다. \n",
            "\n",
            "원인으로는 파일 1에 \"NVIDIA\"의 CODE 값이 존재하지 않기 때문입니다(\"NVDA\"의 이름이 NaN으로 표시됨).\n",
            "\n",
            "이를 확인하기 위해 파일 1의 데이터를 직접 확인해보겠습니다.\n",
            "어시스턴트: \n",
            "같은 과정을 사용하여 \"US67066G1040\"에 해당하는 CODE 값을 확인하겠습니다. 이를 위해 파일을 다시 비교하고 매칭 작업을 수행하겠습니다.\n"
          ]
        }
      ]
    },
    {
      "cell_type": "code",
      "source": [],
      "metadata": {
        "colab": {
          "base_uri": "https://localhost:8080/"
        },
        "id": "b9zw_gyskOxI",
        "outputId": "5bebf5f3-5862-4901-b1a7-18a54d736b87"
      },
      "execution_count": 15,
      "outputs": [
        {
          "output_type": "stream",
          "name": "stdout",
          "text": [
            "어시스턴트: \n",
            "먼저 두 파일을 열고 내용을 비교하여 '애플'에 해당하는 코드를 찾아보겠습니다. \n",
            "\n",
            "```python\n",
            "import pandas as pd\n",
            "\n",
            "# Load the first file\n",
            "file1_path = '/mnt/data/file-lKllooDTkoByYnf8CNQuGuXM'\n",
            "file1 = pd.read_csv(file1_path)\n",
            "\n",
            "# Load the second file\n",
            "file2_path = '/mnt/data/file-tLDhuie5wo46TgObSGxmFteI'\n",
            "file2 = pd.read_csv(file2_path)\n",
            "\n",
            "# Display the first few rows of each file to understand their structure\n",
            "file1_head = file1.head()\n",
            "file2_head = file2.head()\n",
            "\n",
            "file1_head, file2_head\n",
            "```\n",
            "\n",
            "이 코드를 사용하여 두 파일의 구조를 파악한 후, '애플'이라는 이름을 검색하여 해당하는 코드를 찾아보겠습니다.\n"
          ]
        }
      ]
    },
    {
      "cell_type": "code",
      "source": [
        "# 메시지 생성 2\n",
        "message = client.beta.threads.messages.create(\n",
        "    thread_id=thread.id,\n",
        "    role=\"user\",\n",
        "    content=\"CODE 값을 알려줘\"\n",
        ")\n",
        "print(message)"
      ],
      "metadata": {
        "colab": {
          "base_uri": "https://localhost:8080/"
        },
        "id": "Mbw-giOgk2D5",
        "outputId": "24754438-b1ba-4a22-fd37-f5b53956d1dc"
      },
      "execution_count": 16,
      "outputs": [
        {
          "output_type": "stream",
          "name": "stdout",
          "text": [
            "Message(id='msg_ZU8vpzM3jfPRJqDtjcmLdScD', assistant_id=None, attachments=[], completed_at=None, content=[TextContentBlock(text=Text(annotations=[], value='CODE 값을 알려줘'), type='text')], created_at=1722145317, incomplete_at=None, incomplete_details=None, metadata={}, object='thread.message', role='user', run_id=None, status=None, thread_id='thread_VVpDU1Je55NOQYDecd6EZWGD')\n"
          ]
        }
      ]
    },
    {
      "cell_type": "code",
      "source": [
        "run = client.beta.threads.runs.create(\n",
        "      thread_id=thread.id,\n",
        "      assistant_id=assistant.id,\n",
        "      tools=[{\"type\":\"code_interpreter\"}, {\"type\":\"file_search\"}]\n",
        "    )\n",
        "print(run)"
      ],
      "metadata": {
        "colab": {
          "base_uri": "https://localhost:8080/"
        },
        "id": "1lhiqMIylD7r",
        "outputId": "ab8e598b-84f3-45c1-c954-4b843ea58929"
      },
      "execution_count": 19,
      "outputs": [
        {
          "output_type": "stream",
          "name": "stdout",
          "text": [
            "Run(id='run_XrcIQD7kVVeZJKnBbVteeRoZ', assistant_id='asst_ekLJZiBB89BOcMELevv6KWEr', cancelled_at=None, completed_at=None, created_at=1722145353, expires_at=1722145953, failed_at=None, incomplete_details=None, instructions='파일들을 열어 데이터를 비교 영어와 한글로된 이름들을 서로 매칭하여 질문에 해당하는 코드값으로 전달해주면 됩니다.', last_error=None, max_completion_tokens=None, max_prompt_tokens=None, metadata={}, model='gpt-4o', object='thread.run', parallel_tool_calls=True, required_action=None, response_format='auto', started_at=None, status='queued', thread_id='thread_VVpDU1Je55NOQYDecd6EZWGD', tool_choice='auto', tools=[CodeInterpreterTool(type='code_interpreter'), FileSearchTool(type='file_search', file_search=None)], truncation_strategy=TruncationStrategy(type='auto', last_messages=None), usage=None, temperature=1.0, top_p=1.0, tool_resources={})\n"
          ]
        }
      ]
    },
    {
      "cell_type": "code",
      "source": [
        "# 처리결과 확인m\n",
        "messages = client.beta.threads.messages.list(\n",
        "    thread_id=thread.id,\n",
        "    run_id=run.id\n",
        ")\n",
        "\n",
        "print(messages)"
      ],
      "metadata": {
        "colab": {
          "base_uri": "https://localhost:8080/"
        },
        "id": "qqteq5xplHpn",
        "outputId": "f1781718-48ad-4f8d-bb9f-30f1779f0b1a"
      },
      "execution_count": 28,
      "outputs": [
        {
          "output_type": "stream",
          "name": "stdout",
          "text": [
            "SyncCursorPage[Message](data=[], object='list', first_id=None, last_id=None, has_more=False)\n"
          ]
        }
      ]
    },
    {
      "cell_type": "code",
      "source": [
        "for message in messages:\n",
        "  if (message.role == \"assistant\"):\n",
        "    print(f\"어시스턴트: \\n{message.content[0].text.value}\")\n",
        "  elif (message.role == \"user\"):\n",
        "    print(f\"사용자: \\n{message.content[0].text.value}\")\n",
        "  else:\n",
        "    print(f\"오류: \\n{message.content[0].text.value}\")"
      ],
      "metadata": {
        "colab": {
          "base_uri": "https://localhost:8080/",
          "height": 1000
        },
        "id": "iunpmHZOlLj0",
        "outputId": "c43f02e2-f685-48b5-b231-573d5113d801"
      },
      "execution_count": 26,
      "outputs": [
        {
          "output_type": "stream",
          "name": "stdout",
          "text": [
            "어시스턴트: \n",
            "파일 내용을 확인한 결과, 두 파일 모두 바이너리 형식으로 보입니다. 이는 두 파일이 CSV 형식이 아닌 다른 형식, 특히 Excel 파일일 가능성이 높습니다. 따라서 이 파일들을 `pd.read_excel`을 사용하여 불러오겠습니다.\n",
            "\n",
            "```python\n",
            "# Try loading the files as Excel files\n",
            "file1 = pd.read_excel(file1_path)\n",
            "file2 = pd.read_excel(file2_path)\n",
            "\n",
            "# Display the first few rows of each file to understand their structure\n",
            "file1_head = file1.head()\n",
            "file2_head = file2.head()\n",
            "\n",
            "# Inspect the columns of each file\n",
            "file1_columns = file1.columns\n",
            "file2_columns = file2.columns\n",
            "\n",
            "# Search for '애플' in both files\n",
            "apple_code_file1 = file1[file1.apply(lambda row: row.astype(str).str.contains('애플').any(), axis=1)]\n",
            "apple_code_file2 = file2[file2.apply(lambda row: row.astype(str).str.contains('애플').any(), axis=1)]\n",
            "\n",
            "file1_head, file2_head, file1_columns, file2_columns, apple_code_file1, apple_code_file2\n",
            "```\n",
            "\n",
            "다시 시도해 보겠습니다.\n",
            "어시스턴트: \n",
            "이번에는 파서 오류가 발생했습니다. 이 경우 파일의 형식이 CSV가 아니거나, 읽어들이는 방법이 잘못되었을 수 있습니다. 파일을 텍스트 형식으로 먼저 확인한 후, 구체적인 형식을 파악해보겠습니다.\n",
            "\n",
            "파일들을 텍스트로 읽어보겠습니다.\n",
            "\n",
            "```python\n",
            "# Try reading the files as plain text to understand their structure\n",
            "with open(file1_path, 'rb') as f1:\n",
            "    file1_content = f1.read()\n",
            "\n",
            "with open(file2_path, 'rb') as f2:\n",
            "    file2_content = f2.read()\n",
            "\n",
            "# Decode the contents using various encodings to check which one works\n",
            "encodings = ['utf-8', 'euc-kr', 'latin1', 'iso-8859-1']\n",
            "file1_text = {}\n",
            "file2_text = {}\n",
            "\n",
            "for enc in encodings:\n",
            "    try:\n",
            "        file1_text[enc] = file1_content.decode(enc)\n",
            "    except UnicodeDecodeError:\n",
            "        file1_text[enc] = f\"Failed to decode with {enc}\"\n",
            "\n",
            "    try:\n",
            "        file2_text[enc] = file2_content.decode(enc)\n",
            "    except UnicodeDecodeError:\n",
            "        file2_text[enc] = f\"Failed to decode with {enc}\"\n",
            "\n",
            "file1_text, file2_text\n",
            "```\n",
            "\n",
            "다시 시도해보겠습니다.\n",
            "\n",
            "어시스턴트: \n",
            "파일을 여는 데 문제가 발생했습니다. 이 경우 다른 인코딩을 시도하거나 파일 형식을 재검토해야 합니다. Common한 인코딩 방법은 'latin1' 또는 'iso-8859-1'이 있으며, 이러한 인코딩을 시도해 보겠습니다.\n",
            "\n",
            "```python\n",
            "# Try loading the files with 'latin1' encoding\n",
            "file1 = pd.read_csv(file1_path, encoding='latin1')\n",
            "file2 = pd.read_csv(file2_path, encoding='latin1')\n",
            "\n",
            "# Display the first few rows of each file to understand their structure\n",
            "file1_head = file1.head()\n",
            "file2_head = file2.head()\n",
            "\n",
            "# Inspect the columns of each file\n",
            "file1_columns = file1.columns\n",
            "file2_columns = file2.columns\n",
            "\n",
            "# Search for '애플' in both files\n",
            "apple_code_file1 = file1[file1.apply(lambda row: row.astype(str).str.contains('애플').any(), axis=1)]\n",
            "apple_code_file2 = file2[file2.apply(lambda row: row.astype(str).str.contains('애플').any(), axis=1)]\n",
            "\n",
            "file1_head, file2_head, file1_columns, file2_columns, apple_code_file1, apple_code_file2\n",
            "```\n",
            "\n",
            "이렇게 다시 시도해 보겠습니다.\n",
            "어시스턴트: \n",
            "파일을 UTF-8 인코딩으로 해석하는 데 문제가 발생했습니다. 이 경우 다른 인코딩을 시도해보겠습니다. 일반적으로 사용되는 인코딩 중 하나인 'euc-kr'로 시도해 보겠습니다.\n",
            "\n",
            "```python\n",
            "# Try loading the files with 'euc-kr' encoding\n",
            "file1 = pd.read_csv(file1_path, encoding='euc-kr')\n",
            "file2 = pd.read_csv(file2_path, encoding='euc-kr')\n",
            "\n",
            "# Display the first few rows of each file to understand their structure\n",
            "file1_head = file1.head()\n",
            "file2_head = file2.head()\n",
            "\n",
            "# Inspect the columns of each file\n",
            "file1_columns = file1.columns\n",
            "file2_columns = file2.columns\n",
            "\n",
            "# Search for '애플' in both files\n",
            "apple_code_file1 = file1[file1.apply(lambda row: row.astype(str).str.contains('애플').any(), axis=1)]\n",
            "apple_code_file2 = file2[file2.apply(lambda row: row.astype(str).str.contains('애플').any(), axis=1)]\n",
            "\n",
            "file1_head, file2_head, file1_columns, file2_columns, apple_code_file1, apple_code_file2\n",
            "```\n",
            "\n",
            "다시 시도해 보겠습니다.\n",
            "어시스턴트: \n",
            "알겠습니다. 우선 두 파일의 구조를 확인하고 '애플'에 해당하는 코드를 찾아보겠습니다.\n",
            "\n",
            "```python\n",
            "import pandas as pd\n",
            "\n",
            "# Load the files\n",
            "file1_path = '/mnt/data/file-lKllooDTkoByYnf8CNQuGuXM'\n",
            "file2_path = '/mnt/data/file-tLDhuie5wo46TgObSGxmFteI'\n",
            "\n",
            "file1 = pd.read_csv(file1_path)\n",
            "file2 = pd.read_csv(file2_path)\n",
            "\n",
            "# Display the first few rows of each file to understand their structure\n",
            "file1_head = file1.head()\n",
            "file2_head = file2.head()\n",
            "\n",
            "file1_head, file2_head\n",
            "```\n",
            "\n",
            "먼저, 각 파일이 어떤 정보를 가지고 있는지 확인한 후에 '애플'의 코드 값을 찾겠습니다. \n",
            "\n",
            "```python\n",
            "# Let's inspect the columns of each file\n",
            "file1_columns = file1.columns\n",
            "file2_columns = file2.columns\n",
            "\n",
            "file1_columns, file2_columns\n",
            "```\n",
            "\n",
            "이를 통해 검색할 수 있는 열의 이름을 파악합니다. 그런 다음 '애플'에 해당하는 데이터를 찾습니다.\n",
            "\n",
            "```python\n",
            "# Search for '애플' in both files\n",
            "apple_code_file1 = file1[file1.apply(lambda row: row.astype(str).str.contains('애플').any(), axis=1)]\n",
            "apple_code_file2 = file2[file2.apply(lambda row: row.astype(str).str.contains('애플').any(), axis=1)]\n",
            "\n",
            "apple_code_file1, apple_code_file2\n",
            "```\n",
            "\n",
            "이 코드를 실행한 후, '애플'에 해당하는 코드 값을 알려드리겠습니다.\n"
          ]
        },
        {
          "output_type": "error",
          "ename": "NotFoundError",
          "evalue": "Error code: 404 - {'error': {'message': \"No message found with id 'msg_ojGw5M0uWjRDdcXigbqxIBhO'.\", 'type': 'invalid_request_error', 'param': 'after', 'code': None}}",
          "traceback": [
            "\u001b[0;31m---------------------------------------------------------------------------\u001b[0m",
            "\u001b[0;31mNotFoundError\u001b[0m                             Traceback (most recent call last)",
            "\u001b[0;32m<ipython-input-26-3d0d992c1f18>\u001b[0m in \u001b[0;36m<cell line: 1>\u001b[0;34m()\u001b[0m\n\u001b[0;32m----> 1\u001b[0;31m \u001b[0;32mfor\u001b[0m \u001b[0mmessage\u001b[0m \u001b[0;32min\u001b[0m \u001b[0mmessages\u001b[0m\u001b[0;34m:\u001b[0m\u001b[0;34m\u001b[0m\u001b[0;34m\u001b[0m\u001b[0m\n\u001b[0m\u001b[1;32m      2\u001b[0m   \u001b[0;32mif\u001b[0m \u001b[0;34m(\u001b[0m\u001b[0mmessage\u001b[0m\u001b[0;34m.\u001b[0m\u001b[0mrole\u001b[0m \u001b[0;34m==\u001b[0m \u001b[0;34m\"assistant\"\u001b[0m\u001b[0;34m)\u001b[0m\u001b[0;34m:\u001b[0m\u001b[0;34m\u001b[0m\u001b[0;34m\u001b[0m\u001b[0m\n\u001b[1;32m      3\u001b[0m     \u001b[0mprint\u001b[0m\u001b[0;34m(\u001b[0m\u001b[0;34mf\"어시스턴트: \\n{message.content[0].text.value}\"\u001b[0m\u001b[0;34m)\u001b[0m\u001b[0;34m\u001b[0m\u001b[0;34m\u001b[0m\u001b[0m\n\u001b[1;32m      4\u001b[0m   \u001b[0;32melif\u001b[0m \u001b[0;34m(\u001b[0m\u001b[0mmessage\u001b[0m\u001b[0;34m.\u001b[0m\u001b[0mrole\u001b[0m \u001b[0;34m==\u001b[0m \u001b[0;34m\"user\"\u001b[0m\u001b[0;34m)\u001b[0m\u001b[0;34m:\u001b[0m\u001b[0;34m\u001b[0m\u001b[0;34m\u001b[0m\u001b[0m\n\u001b[1;32m      5\u001b[0m     \u001b[0mprint\u001b[0m\u001b[0;34m(\u001b[0m\u001b[0;34mf\"사용자: \\n{message.content[0].text.value}\"\u001b[0m\u001b[0;34m)\u001b[0m\u001b[0;34m\u001b[0m\u001b[0;34m\u001b[0m\u001b[0m\n",
            "\u001b[0;32m/usr/local/lib/python3.10/dist-packages/openai/_base_client.py\u001b[0m in \u001b[0;36m__iter__\u001b[0;34m(self)\u001b[0m\n\u001b[1;32m    218\u001b[0m     \u001b[0;31m# by pydantic.\u001b[0m\u001b[0;34m\u001b[0m\u001b[0;34m\u001b[0m\u001b[0m\n\u001b[1;32m    219\u001b[0m     \u001b[0;32mdef\u001b[0m \u001b[0m__iter__\u001b[0m\u001b[0;34m(\u001b[0m\u001b[0mself\u001b[0m\u001b[0;34m)\u001b[0m \u001b[0;34m->\u001b[0m \u001b[0mIterator\u001b[0m\u001b[0;34m[\u001b[0m\u001b[0m_T\u001b[0m\u001b[0;34m]\u001b[0m\u001b[0;34m:\u001b[0m  \u001b[0;31m# type: ignore\u001b[0m\u001b[0;34m\u001b[0m\u001b[0;34m\u001b[0m\u001b[0m\n\u001b[0;32m--> 220\u001b[0;31m         \u001b[0;32mfor\u001b[0m \u001b[0mpage\u001b[0m \u001b[0;32min\u001b[0m \u001b[0mself\u001b[0m\u001b[0;34m.\u001b[0m\u001b[0miter_pages\u001b[0m\u001b[0;34m(\u001b[0m\u001b[0;34m)\u001b[0m\u001b[0;34m:\u001b[0m\u001b[0;34m\u001b[0m\u001b[0;34m\u001b[0m\u001b[0m\n\u001b[0m\u001b[1;32m    221\u001b[0m             \u001b[0;32mfor\u001b[0m \u001b[0mitem\u001b[0m \u001b[0;32min\u001b[0m \u001b[0mpage\u001b[0m\u001b[0;34m.\u001b[0m\u001b[0m_get_page_items\u001b[0m\u001b[0;34m(\u001b[0m\u001b[0;34m)\u001b[0m\u001b[0;34m:\u001b[0m\u001b[0;34m\u001b[0m\u001b[0;34m\u001b[0m\u001b[0m\n\u001b[1;32m    222\u001b[0m                 \u001b[0;32myield\u001b[0m \u001b[0mitem\u001b[0m\u001b[0;34m\u001b[0m\u001b[0;34m\u001b[0m\u001b[0m\n",
            "\u001b[0;32m/usr/local/lib/python3.10/dist-packages/openai/_base_client.py\u001b[0m in \u001b[0;36miter_pages\u001b[0;34m(self)\u001b[0m\n\u001b[1;32m    227\u001b[0m             \u001b[0;32myield\u001b[0m \u001b[0mpage\u001b[0m\u001b[0;34m\u001b[0m\u001b[0;34m\u001b[0m\u001b[0m\n\u001b[1;32m    228\u001b[0m             \u001b[0;32mif\u001b[0m \u001b[0mpage\u001b[0m\u001b[0;34m.\u001b[0m\u001b[0mhas_next_page\u001b[0m\u001b[0;34m(\u001b[0m\u001b[0;34m)\u001b[0m\u001b[0;34m:\u001b[0m\u001b[0;34m\u001b[0m\u001b[0;34m\u001b[0m\u001b[0m\n\u001b[0;32m--> 229\u001b[0;31m                 \u001b[0mpage\u001b[0m \u001b[0;34m=\u001b[0m \u001b[0mpage\u001b[0m\u001b[0;34m.\u001b[0m\u001b[0mget_next_page\u001b[0m\u001b[0;34m(\u001b[0m\u001b[0;34m)\u001b[0m\u001b[0;34m\u001b[0m\u001b[0;34m\u001b[0m\u001b[0m\n\u001b[0m\u001b[1;32m    230\u001b[0m             \u001b[0;32melse\u001b[0m\u001b[0;34m:\u001b[0m\u001b[0;34m\u001b[0m\u001b[0;34m\u001b[0m\u001b[0m\n\u001b[1;32m    231\u001b[0m                 \u001b[0;32mreturn\u001b[0m\u001b[0;34m\u001b[0m\u001b[0;34m\u001b[0m\u001b[0m\n",
            "\u001b[0;32m/usr/local/lib/python3.10/dist-packages/openai/_base_client.py\u001b[0m in \u001b[0;36mget_next_page\u001b[0;34m(self)\u001b[0m\n\u001b[1;32m    239\u001b[0m \u001b[0;34m\u001b[0m\u001b[0m\n\u001b[1;32m    240\u001b[0m         \u001b[0moptions\u001b[0m \u001b[0;34m=\u001b[0m \u001b[0mself\u001b[0m\u001b[0;34m.\u001b[0m\u001b[0m_info_to_options\u001b[0m\u001b[0;34m(\u001b[0m\u001b[0minfo\u001b[0m\u001b[0;34m)\u001b[0m\u001b[0;34m\u001b[0m\u001b[0;34m\u001b[0m\u001b[0m\n\u001b[0;32m--> 241\u001b[0;31m         \u001b[0;32mreturn\u001b[0m \u001b[0mself\u001b[0m\u001b[0;34m.\u001b[0m\u001b[0m_client\u001b[0m\u001b[0;34m.\u001b[0m\u001b[0m_request_api_list\u001b[0m\u001b[0;34m(\u001b[0m\u001b[0mself\u001b[0m\u001b[0;34m.\u001b[0m\u001b[0m_model\u001b[0m\u001b[0;34m,\u001b[0m \u001b[0mpage\u001b[0m\u001b[0;34m=\u001b[0m\u001b[0mself\u001b[0m\u001b[0;34m.\u001b[0m\u001b[0m__class__\u001b[0m\u001b[0;34m,\u001b[0m \u001b[0moptions\u001b[0m\u001b[0;34m=\u001b[0m\u001b[0moptions\u001b[0m\u001b[0;34m)\u001b[0m\u001b[0;34m\u001b[0m\u001b[0;34m\u001b[0m\u001b[0m\n\u001b[0m\u001b[1;32m    242\u001b[0m \u001b[0;34m\u001b[0m\u001b[0m\n\u001b[1;32m    243\u001b[0m \u001b[0;34m\u001b[0m\u001b[0m\n",
            "\u001b[0;32m/usr/local/lib/python3.10/dist-packages/openai/_base_client.py\u001b[0m in \u001b[0;36m_request_api_list\u001b[0;34m(self, model, page, options)\u001b[0m\n\u001b[1;32m   1158\u001b[0m         \u001b[0moptions\u001b[0m\u001b[0;34m.\u001b[0m\u001b[0mpost_parser\u001b[0m \u001b[0;34m=\u001b[0m \u001b[0m_parser\u001b[0m\u001b[0;34m\u001b[0m\u001b[0;34m\u001b[0m\u001b[0m\n\u001b[1;32m   1159\u001b[0m \u001b[0;34m\u001b[0m\u001b[0m\n\u001b[0;32m-> 1160\u001b[0;31m         \u001b[0;32mreturn\u001b[0m \u001b[0mself\u001b[0m\u001b[0;34m.\u001b[0m\u001b[0mrequest\u001b[0m\u001b[0;34m(\u001b[0m\u001b[0mpage\u001b[0m\u001b[0;34m,\u001b[0m \u001b[0moptions\u001b[0m\u001b[0;34m,\u001b[0m \u001b[0mstream\u001b[0m\u001b[0;34m=\u001b[0m\u001b[0;32mFalse\u001b[0m\u001b[0;34m)\u001b[0m\u001b[0;34m\u001b[0m\u001b[0;34m\u001b[0m\u001b[0m\n\u001b[0m\u001b[1;32m   1161\u001b[0m \u001b[0;34m\u001b[0m\u001b[0m\n\u001b[1;32m   1162\u001b[0m     \u001b[0;34m@\u001b[0m\u001b[0moverload\u001b[0m\u001b[0;34m\u001b[0m\u001b[0;34m\u001b[0m\u001b[0m\n",
            "\u001b[0;32m/usr/local/lib/python3.10/dist-packages/openai/_base_client.py\u001b[0m in \u001b[0;36mrequest\u001b[0;34m(self, cast_to, options, remaining_retries, stream, stream_cls)\u001b[0m\n\u001b[1;32m    940\u001b[0m         \u001b[0mstream_cls\u001b[0m\u001b[0;34m:\u001b[0m \u001b[0mtype\u001b[0m\u001b[0;34m[\u001b[0m\u001b[0m_StreamT\u001b[0m\u001b[0;34m]\u001b[0m \u001b[0;34m|\u001b[0m \u001b[0;32mNone\u001b[0m \u001b[0;34m=\u001b[0m \u001b[0;32mNone\u001b[0m\u001b[0;34m,\u001b[0m\u001b[0;34m\u001b[0m\u001b[0;34m\u001b[0m\u001b[0m\n\u001b[1;32m    941\u001b[0m     ) -> ResponseT | _StreamT:\n\u001b[0;32m--> 942\u001b[0;31m         return self._request(\n\u001b[0m\u001b[1;32m    943\u001b[0m             \u001b[0mcast_to\u001b[0m\u001b[0;34m=\u001b[0m\u001b[0mcast_to\u001b[0m\u001b[0;34m,\u001b[0m\u001b[0;34m\u001b[0m\u001b[0;34m\u001b[0m\u001b[0m\n\u001b[1;32m    944\u001b[0m             \u001b[0moptions\u001b[0m\u001b[0;34m=\u001b[0m\u001b[0moptions\u001b[0m\u001b[0;34m,\u001b[0m\u001b[0;34m\u001b[0m\u001b[0;34m\u001b[0m\u001b[0m\n",
            "\u001b[0;32m/usr/local/lib/python3.10/dist-packages/openai/_base_client.py\u001b[0m in \u001b[0;36m_request\u001b[0;34m(self, cast_to, options, remaining_retries, stream, stream_cls)\u001b[0m\n\u001b[1;32m   1044\u001b[0m \u001b[0;34m\u001b[0m\u001b[0m\n\u001b[1;32m   1045\u001b[0m             \u001b[0mlog\u001b[0m\u001b[0;34m.\u001b[0m\u001b[0mdebug\u001b[0m\u001b[0;34m(\u001b[0m\u001b[0;34m\"Re-raising status error\"\u001b[0m\u001b[0;34m)\u001b[0m\u001b[0;34m\u001b[0m\u001b[0;34m\u001b[0m\u001b[0m\n\u001b[0;32m-> 1046\u001b[0;31m             \u001b[0;32mraise\u001b[0m \u001b[0mself\u001b[0m\u001b[0;34m.\u001b[0m\u001b[0m_make_status_error_from_response\u001b[0m\u001b[0;34m(\u001b[0m\u001b[0merr\u001b[0m\u001b[0;34m.\u001b[0m\u001b[0mresponse\u001b[0m\u001b[0;34m)\u001b[0m \u001b[0;32mfrom\u001b[0m \u001b[0;32mNone\u001b[0m\u001b[0;34m\u001b[0m\u001b[0;34m\u001b[0m\u001b[0m\n\u001b[0m\u001b[1;32m   1047\u001b[0m \u001b[0;34m\u001b[0m\u001b[0m\n\u001b[1;32m   1048\u001b[0m         return self._process_response(\n",
            "\u001b[0;31mNotFoundError\u001b[0m: Error code: 404 - {'error': {'message': \"No message found with id 'msg_ojGw5M0uWjRDdcXigbqxIBhO'.\", 'type': 'invalid_request_error', 'param': 'after', 'code': None}}"
          ]
        }
      ]
    }
  ],
  "metadata": {
    "kernelspec": {
      "display_name": "Python 3",
      "name": "python3"
    },
    "language_info": {
      "codemirror_mode": {
        "name": "ipython",
        "version": 3
      },
      "file_extension": ".py",
      "mimetype": "text/x-python",
      "name": "python",
      "nbconvert_exporter": "python",
      "pygments_lexer": "ipython3",
      "version": "3.9.13"
    },
    "colab": {
      "provenance": [],
      "gpuType": "T4",
      "include_colab_link": true
    },
    "accelerator": "GPU"
  },
  "nbformat": 4,
  "nbformat_minor": 0
}